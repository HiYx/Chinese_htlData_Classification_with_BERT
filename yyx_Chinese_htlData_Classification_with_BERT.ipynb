{
  "nbformat": 4,
  "nbformat_minor": 0,
  "metadata": {
    "colab": {
      "name": "Chinese_htlData_Classification_with_BERT.ipynb",
      "provenance": [],
      "collapsed_sections": []
    },
    "kernelspec": {
      "name": "python3",
      "display_name": "Python 3"
    },
    "accelerator": "GPU"
  },
  "cells": [
    {
      "cell_type": "markdown",
      "metadata": {
        "id": "XqLEbsvyOjJ5"
      },
      "source": [
        "#在Fastai框架下基于BERT模型的中文文本分类\n"
      ]
    },
    {
      "cell_type": "markdown",
      "metadata": {
        "id": "KdRDycJLO1qW"
      },
      "source": [
        "##Preparation"
      ]
    },
    {
      "cell_type": "code",
      "metadata": {
        "id": "Yea4tylQORLi",
        "colab": {
          "base_uri": "https://localhost:8080/"
        },
        "outputId": "5ad47513-acfa-4ec1-b4ac-0bd432be5df6"
      },
      "source": [
        "#安装pytorch下包含BERT预训练模型的库\n",
        "!pip install pytorch-pretrained-bert"
      ],
      "execution_count": 92,
      "outputs": [
        {
          "output_type": "stream",
          "text": [
            "Requirement already satisfied: pytorch-pretrained-bert in /usr/local/lib/python3.7/dist-packages (0.6.2)\n",
            "Requirement already satisfied: numpy in /usr/local/lib/python3.7/dist-packages (from pytorch-pretrained-bert) (1.19.5)\n",
            "Requirement already satisfied: boto3 in /usr/local/lib/python3.7/dist-packages (from pytorch-pretrained-bert) (1.17.105)\n",
            "Requirement already satisfied: regex in /usr/local/lib/python3.7/dist-packages (from pytorch-pretrained-bert) (2019.12.20)\n",
            "Requirement already satisfied: requests in /usr/local/lib/python3.7/dist-packages (from pytorch-pretrained-bert) (2.23.0)\n",
            "Requirement already satisfied: torch>=0.4.1 in /usr/local/lib/python3.7/dist-packages (from pytorch-pretrained-bert) (1.9.0+cu102)\n",
            "Requirement already satisfied: tqdm in /usr/local/lib/python3.7/dist-packages (from pytorch-pretrained-bert) (4.41.1)\n",
            "Requirement already satisfied: jmespath<1.0.0,>=0.7.1 in /usr/local/lib/python3.7/dist-packages (from boto3->pytorch-pretrained-bert) (0.10.0)\n",
            "Requirement already satisfied: botocore<1.21.0,>=1.20.105 in /usr/local/lib/python3.7/dist-packages (from boto3->pytorch-pretrained-bert) (1.20.105)\n",
            "Requirement already satisfied: s3transfer<0.5.0,>=0.4.0 in /usr/local/lib/python3.7/dist-packages (from boto3->pytorch-pretrained-bert) (0.4.2)\n",
            "Requirement already satisfied: idna<3,>=2.5 in /usr/local/lib/python3.7/dist-packages (from requests->pytorch-pretrained-bert) (2.10)\n",
            "Requirement already satisfied: urllib3!=1.25.0,!=1.25.1,<1.26,>=1.21.1 in /usr/local/lib/python3.7/dist-packages (from requests->pytorch-pretrained-bert) (1.24.3)\n",
            "Requirement already satisfied: certifi>=2017.4.17 in /usr/local/lib/python3.7/dist-packages (from requests->pytorch-pretrained-bert) (2021.5.30)\n",
            "Requirement already satisfied: chardet<4,>=3.0.2 in /usr/local/lib/python3.7/dist-packages (from requests->pytorch-pretrained-bert) (3.0.4)\n",
            "Requirement already satisfied: typing-extensions in /usr/local/lib/python3.7/dist-packages (from torch>=0.4.1->pytorch-pretrained-bert) (3.7.4.3)\n",
            "Requirement already satisfied: python-dateutil<3.0.0,>=2.1 in /usr/local/lib/python3.7/dist-packages (from botocore<1.21.0,>=1.20.105->boto3->pytorch-pretrained-bert) (2.8.1)\n",
            "Requirement already satisfied: six>=1.5 in /usr/local/lib/python3.7/dist-packages (from python-dateutil<3.0.0,>=2.1->botocore<1.21.0,>=1.20.105->boto3->pytorch-pretrained-bert) (1.15.0)\n"
          ],
          "name": "stdout"
        }
      ]
    },
    {
      "cell_type": "code",
      "metadata": {
        "id": "hmikQXQAPenZ"
      },
      "source": [
        "#引入必要的依赖包\n",
        "import numpy as np\n",
        "import pandas as pd\n",
        "\n",
        "from pathlib import Path\n",
        "from typing import *\n",
        "\n",
        "import torch\n",
        "import torch.optim as optim\n",
        "\n",
        "from fastai import *\n",
        "from fastai.vision import *\n",
        "from fastai.text import *\n",
        "from fastai.callbacks import *"
      ],
      "execution_count": 93,
      "outputs": []
    },
    {
      "cell_type": "code",
      "metadata": {
        "id": "uFPURKkfQATE"
      },
      "source": [
        "#设置一个config类，便于参数配置与更改\n",
        "class Config(dict):\n",
        "    def __init__(self, **kwargs):\n",
        "        super().__init__(**kwargs)\n",
        "        for k, v in kwargs.items():\n",
        "            setattr(self, k, v)\n",
        "    \n",
        "    def set(self, key, val):\n",
        "        self[key] = val\n",
        "        setattr(self, key, val)\n",
        "\n",
        "config = Config(\n",
        "    testing=False,\n",
        "    bert_model_name=\"bert-base-chinese\", \n",
        "    #选用中文预训练模型：Chinese Simplified and Traditional, 12-layer, 768-hidden, 12-heads, 110M parameters\n",
        "    max_lr=3e-5,\n",
        "    epochs=1,\n",
        "    use_fp16=False, #fastai里可以方便地调整精度，加快训练速度：learner.to_fp16()\n",
        "    bs=8,\n",
        "    max_seq_len=128, #选取合适的seq_length，较大的值可能导致训练极慢报错等\n",
        ")"
      ],
      "execution_count": 94,
      "outputs": []
    },
    {
      "cell_type": "code",
      "metadata": {
        "id": "3dS1_jNESiEv"
      },
      "source": [
        ""
      ],
      "execution_count": null,
      "outputs": []
    },
    {
      "cell_type": "markdown",
      "metadata": {
        "id": "bYXEtepaSilw"
      },
      "source": [
        "##Customize Tokenizer and Vocab"
      ]
    },
    {
      "cell_type": "code",
      "metadata": {
        "id": "JiKPDWViStZS"
      },
      "source": [
        "#pytorch_bert包提供了BertTokenizer类，从选取的模型中提取tok\n",
        "from pytorch_pretrained_bert import BertTokenizer\n",
        "bert_tok = BertTokenizer.from_pretrained(\n",
        "    config.bert_model_name,\n",
        ")"
      ],
      "execution_count": 95,
      "outputs": []
    },
    {
      "cell_type": "markdown",
      "metadata": {
        "id": "8WHx6utjUCVs"
      },
      "source": [
        "定制Tokenizer需要继承fastai的BaseTokenizer类，注意BERT会在sequence的首尾加上特殊token[CLS]和[SEP]，与fastai里的bos和eos有重合，所以在之后会有include_eos=Fasle的设置"
      ]
    },
    {
      "cell_type": "code",
      "metadata": {
        "id": "09bYVoWBT0wr"
      },
      "source": [
        "class FastAiBertTokenizer(BaseTokenizer):\n",
        "    \"\"\"Wrapper around a BertTokenizer to be a BaseTokenizer in fastai\"\"\"\n",
        "    def __init__(self, tokenizer: BertTokenizer, max_seq_len: int=128, **kwargs):\n",
        "        self._pretrained_tokenizer = tokenizer\n",
        "        self.max_seq_len = max_seq_len\n",
        "\n",
        "    def __call__(self, *args, **kwargs):\n",
        "        return self\n",
        "\n",
        "    def tokenizer(self, t:str) -> List[str]:\n",
        "        \"\"\"Limits the maximum sequence length\"\"\"\n",
        "        return [\"[CLS]\"] + self._pretrained_tokenizer.tokenize(t)[:self.max_seq_len - 2] + [\"[SEP]\"]"
      ],
      "execution_count": 96,
      "outputs": []
    },
    {
      "cell_type": "code",
      "metadata": {
        "id": "0HD1qCGCVMMe"
      },
      "source": [
        "#最终的tokenizer\n",
        "fastai_tokenizer = Tokenizer(\n",
        "    tok_func=FastAiBertTokenizer(bert_tok, max_seq_len=config.max_seq_len), \n",
        "    pre_rules=[], \n",
        "    post_rules=[]\n",
        ")"
      ],
      "execution_count": 97,
      "outputs": []
    },
    {
      "cell_type": "code",
      "metadata": {
        "id": "LxXk9yB1V0nB",
        "colab": {
          "base_uri": "https://localhost:8080/"
        },
        "outputId": "f7d2bb94-a4aa-4074-cb11-2c160bb2d6c4"
      },
      "source": [
        "#check the vocab\n",
        "list(bert_tok.vocab.items())[1090:1110]"
      ],
      "execution_count": 98,
      "outputs": [
        {
          "output_type": "execute_result",
          "data": {
            "text/plain": [
              "[('冗', 1090),\n",
              " ('写', 1091),\n",
              " ('军', 1092),\n",
              " ('农', 1093),\n",
              " ('冠', 1094),\n",
              " ('冢', 1095),\n",
              " ('冤', 1096),\n",
              " ('冥', 1097),\n",
              " ('冨', 1098),\n",
              " ('冪', 1099),\n",
              " ('冬', 1100),\n",
              " ('冯', 1101),\n",
              " ('冰', 1102),\n",
              " ('冲', 1103),\n",
              " ('决', 1104),\n",
              " ('况', 1105),\n",
              " ('冶', 1106),\n",
              " ('冷', 1107),\n",
              " ('冻', 1108),\n",
              " ('冼', 1109)]"
            ]
          },
          "metadata": {
            "tags": []
          },
          "execution_count": 98
        }
      ]
    },
    {
      "cell_type": "code",
      "metadata": {
        "id": "NYIrjtkHW2F2"
      },
      "source": [
        "#设置vocab\n",
        "fastai_bert_vocab = Vocab(list(bert_tok.vocab.keys()))"
      ],
      "execution_count": 99,
      "outputs": []
    },
    {
      "cell_type": "code",
      "metadata": {
        "id": "DUU3lFXrXAUw"
      },
      "source": [
        ""
      ],
      "execution_count": null,
      "outputs": []
    },
    {
      "cell_type": "markdown",
      "metadata": {
        "id": "KHfJODECXEVp"
      },
      "source": [
        "##Dataset"
      ]
    },
    {
      "cell_type": "markdown",
      "metadata": {
        "id": "rwkcOhG3Uc_x"
      },
      "source": [
        "本次使用的数据集信息：\n",
        "\n",
        "*   名称及出处：[ChnSentiCorp_htl_all](https://github.com/ZeroLeon/ChineseNlpCorpus/blob/master/datasets/ChnSentiCorp_htl_all/intro.ipynb)\n",
        "*   数据概览： 7000 多条酒店评论数据，5000 多条正向评论，2000 多条负向评论\n",
        "*   推荐实验： 情感/观点/评论 倾向性分析\n",
        "*   数据来源： 携程网\n",
        "*   原数据集： ChnSentiCorp_htl，由谭松波老师整理的一份数据集\n",
        "\n"
      ]
    },
    {
      "cell_type": "code",
      "metadata": {
        "id": "_4L8is6AXGB8",
        "colab": {
          "base_uri": "https://localhost:8080/"
        },
        "outputId": "f93371f7-165c-493d-8178-b0a7bd3baeb9"
      },
      "source": [
        "#在colab下接入google drive，方便保存模型修改文件，使用其他kernel可跳过这一步\n",
        "from google.colab import drive\n",
        "drive.mount('/content/gdrive',force_remount = True)\n",
        "base_dir = '/content/gdrive/My Drive/fastai'\n",
        "path = Path(base_dir +'/data/htl_reviews')\n",
        "# path.mkdir(parents=True,exist_ok=True)\n",
        "os.chdir(path)"
      ],
      "execution_count": 100,
      "outputs": [
        {
          "output_type": "stream",
          "text": [
            "Mounted at /content/gdrive\n"
          ],
          "name": "stdout"
        }
      ]
    },
    {
      "cell_type": "code",
      "metadata": {
        "id": "5gU8EtWUXRjS"
      },
      "source": [
        "!wget https://github.com/SophonPlus/ChineseNlpCorpus/raw/master/datasets/ChnSentiCorp_htl_all/ChnSentiCorp_htl_all.csv"
      ],
      "execution_count": null,
      "outputs": []
    },
    {
      "cell_type": "code",
      "metadata": {
        "id": "xk7iS5FpXngc",
        "colab": {
          "base_uri": "https://localhost:8080/"
        },
        "outputId": "404ec9af-0985-4a5d-f9a9-81852edf802d"
      },
      "source": [
        "%cd /content/gdrive/MyDrive/fastai/data/htl_reviews\n",
        "df_htl = pd.read_csv('ChnSentiCorp_htl_all.csv')[0:6000]"
      ],
      "execution_count": 179,
      "outputs": [
        {
          "output_type": "stream",
          "text": [
            "/content/gdrive/MyDrive/fastai/data/htl_reviews\n"
          ],
          "name": "stdout"
        }
      ]
    },
    {
      "cell_type": "code",
      "metadata": {
        "id": "E7EE0A_hYS4E",
        "colab": {
          "base_uri": "https://localhost:8080/",
          "height": 363
        },
        "outputId": "e0a8334a-5d1f-41ac-81c6-aad4f75df086"
      },
      "source": [
        "#标签涵义：1代表正向评论，0代表负向评论\n",
        "label_denotation = {1:'positive',0:'negative'}\n",
        "df_htl.sample(10)"
      ],
      "execution_count": 180,
      "outputs": [
        {
          "output_type": "execute_result",
          "data": {
            "text/html": [
              "<div>\n",
              "<style scoped>\n",
              "    .dataframe tbody tr th:only-of-type {\n",
              "        vertical-align: middle;\n",
              "    }\n",
              "\n",
              "    .dataframe tbody tr th {\n",
              "        vertical-align: top;\n",
              "    }\n",
              "\n",
              "    .dataframe thead th {\n",
              "        text-align: right;\n",
              "    }\n",
              "</style>\n",
              "<table border=\"1\" class=\"dataframe\">\n",
              "  <thead>\n",
              "    <tr style=\"text-align: right;\">\n",
              "      <th></th>\n",
              "      <th>label</th>\n",
              "      <th>review</th>\n",
              "    </tr>\n",
              "  </thead>\n",
              "  <tbody>\n",
              "    <tr>\n",
              "      <th>4592</th>\n",
              "      <td>1</td>\n",
              "      <td>银川不大，携程上就只找到8个酒店，一眼看中了绿洲酒店，因为价格不错，248元就有豪华房，而且...</td>\n",
              "    </tr>\n",
              "    <tr>\n",
              "      <th>2027</th>\n",
              "      <td>1</td>\n",
              "      <td>酒店有三种色调的房间,白色,米色和翠绿色,好象还有女士楼层看电梯里的介绍图片是粉红色的,挺有...</td>\n",
              "    </tr>\n",
              "    <tr>\n",
              "      <th>5678</th>\n",
              "      <td>0</td>\n",
              "      <td>实话实说，此酒店实在不行，428的套房居然只是一张大床和一张小床，再加个桌子，浴缸没有，热水...</td>\n",
              "    </tr>\n",
              "    <tr>\n",
              "      <th>4159</th>\n",
              "      <td>1</td>\n",
              "      <td>酒店位置非常的好，客人每次都要点名入住。只是不知道为什么每次前台都为了吸烟区和非吸烟区和你捣...</td>\n",
              "    </tr>\n",
              "    <tr>\n",
              "      <th>5292</th>\n",
              "      <td>1</td>\n",
              "      <td>这家酒店应该不错，在北京这种价格还算合理。</td>\n",
              "    </tr>\n",
              "    <tr>\n",
              "      <th>5252</th>\n",
              "      <td>1</td>\n",
              "      <td>这家酒店性价比还是很高的，入住的是行政楼层单人间，给客户订的是行政楼层双人间，酒店内硬件设施...</td>\n",
              "    </tr>\n",
              "    <tr>\n",
              "      <th>2073</th>\n",
              "      <td>1</td>\n",
              "      <td>酒店的地理位置实在不错，所以从大堂开始就令人惊艳。城景房不但在房间可以看到上海的美景，就连于...</td>\n",
              "    </tr>\n",
              "    <tr>\n",
              "      <th>3895</th>\n",
              "      <td>1</td>\n",
              "      <td>大堂较小，房间不错，离地铁四号线非常近，交通比较方便。</td>\n",
              "    </tr>\n",
              "    <tr>\n",
              "      <th>1551</th>\n",
              "      <td>1</td>\n",
              "      <td>真如其他会员所说，隔音效果真的是一塌糊涂，隔着3件房间，都可以听到他们的电话铃音。并且强烈提...</td>\n",
              "    </tr>\n",
              "    <tr>\n",
              "      <th>4315</th>\n",
              "      <td>1</td>\n",
              "      <td>城堡酒店绝对是修身养性绝佳地方~~~我住的好的宾馆不少~~可以说在上海、深圳、大连、北京~~...</td>\n",
              "    </tr>\n",
              "  </tbody>\n",
              "</table>\n",
              "</div>"
            ],
            "text/plain": [
              "      label                                             review\n",
              "4592      1  银川不大，携程上就只找到8个酒店，一眼看中了绿洲酒店，因为价格不错，248元就有豪华房，而且...\n",
              "2027      1  酒店有三种色调的房间,白色,米色和翠绿色,好象还有女士楼层看电梯里的介绍图片是粉红色的,挺有...\n",
              "5678      0  实话实说，此酒店实在不行，428的套房居然只是一张大床和一张小床，再加个桌子，浴缸没有，热水...\n",
              "4159      1  酒店位置非常的好，客人每次都要点名入住。只是不知道为什么每次前台都为了吸烟区和非吸烟区和你捣...\n",
              "5292      1                              这家酒店应该不错，在北京这种价格还算合理。\n",
              "5252      1  这家酒店性价比还是很高的，入住的是行政楼层单人间，给客户订的是行政楼层双人间，酒店内硬件设施...\n",
              "2073      1  酒店的地理位置实在不错，所以从大堂开始就令人惊艳。城景房不但在房间可以看到上海的美景，就连于...\n",
              "3895      1                        大堂较小，房间不错，离地铁四号线非常近，交通比较方便。\n",
              "1551      1  真如其他会员所说，隔音效果真的是一塌糊涂，隔着3件房间，都可以听到他们的电话铃音。并且强烈提...\n",
              "4315      1  城堡酒店绝对是修身养性绝佳地方~~~我住的好的宾馆不少~~可以说在上海、深圳、大连、北京~~..."
            ]
          },
          "metadata": {
            "tags": []
          },
          "execution_count": 180
        }
      ]
    },
    {
      "cell_type": "code",
      "metadata": {
        "colab": {
          "base_uri": "https://localhost:8080/"
        },
        "id": "PS490n7-j1WJ",
        "outputId": "09423869-fbe4-4399-84f4-1f9b49dced54"
      },
      "source": [
        "df_htl['label']"
      ],
      "execution_count": 181,
      "outputs": [
        {
          "output_type": "execute_result",
          "data": {
            "text/plain": [
              "0       1\n",
              "1       1\n",
              "2       1\n",
              "3       1\n",
              "4       1\n",
              "       ..\n",
              "5995    0\n",
              "5996    0\n",
              "5997    0\n",
              "5998    0\n",
              "5999    0\n",
              "Name: label, Length: 6000, dtype: int64"
            ]
          },
          "metadata": {
            "tags": []
          },
          "execution_count": 181
        }
      ]
    },
    {
      "cell_type": "code",
      "metadata": {
        "id": "LKBd5hlzYUkr"
      },
      "source": [
        "#分割训练集train与验证集val\n",
        "from sklearn.model_selection import train_test_split\n",
        "\n",
        "train, val = train_test_split(df_htl)"
      ],
      "execution_count": 182,
      "outputs": []
    },
    {
      "cell_type": "code",
      "metadata": {
        "id": "N69Q-7GjZzxq",
        "colab": {
          "base_uri": "https://localhost:8080/"
        },
        "outputId": "c09d734d-0287-4e1b-fed7-418d826ad242"
      },
      "source": [
        "#check their size\n",
        "print(train.shape,val.shape)"
      ],
      "execution_count": 161,
      "outputs": [
        {
          "output_type": "stream",
          "text": [
            "(4500, 1) (1500, 1)\n"
          ],
          "name": "stdout"
        }
      ]
    },
    {
      "cell_type": "code",
      "metadata": {
        "id": "GWq0P4LnaL9M",
        "colab": {
          "base_uri": "https://localhost:8080/",
          "height": 129
        },
        "outputId": "9083d2d8-4021-47ac-f714-8a005d04eabb"
      },
      "source": [
        "#建立TextDataBunch\n",
        "databunch = TextClasDataBunch.from_df(\".\", train, val,\n",
        "                  tokenizer=fastai_tokenizer,\n",
        "                  vocab=fastai_bert_vocab,\n",
        "                  include_bos=False,\n",
        "                  include_eos=False,\n",
        "                  text_cols=\"review\",\n",
        "                  label_cols=['label'],\n",
        "                  bs=config.bs,\n",
        "                  collate_fn=partial(pad_collate, pad_first=False, pad_idx=0),\n",
        "             )"
      ],
      "execution_count": 183,
      "outputs": [
        {
          "output_type": "display_data",
          "data": {
            "text/html": [
              ""
            ],
            "text/plain": [
              "<IPython.core.display.HTML object>"
            ]
          },
          "metadata": {
            "tags": []
          }
        },
        {
          "output_type": "stream",
          "text": [
            "/usr/local/lib/python3.7/dist-packages/fastai/core.py:302: VisibleDeprecationWarning: Creating an ndarray from ragged nested sequences (which is a list-or-tuple of lists-or-tuples-or ndarrays with different lengths or shapes) is deprecated. If you meant to do this, you must specify 'dtype=object' when creating the ndarray\n",
            "  return np.array(a, dtype=dtype, **kwargs)\n"
          ],
          "name": "stderr"
        },
        {
          "output_type": "display_data",
          "data": {
            "text/html": [
              ""
            ],
            "text/plain": [
              "<IPython.core.display.HTML object>"
            ]
          },
          "metadata": {
            "tags": []
          }
        },
        {
          "output_type": "stream",
          "text": [
            "/usr/local/lib/python3.7/dist-packages/numpy/core/_asarray.py:83: VisibleDeprecationWarning: Creating an ndarray from ragged nested sequences (which is a list-or-tuple of lists-or-tuples-or ndarrays with different lengths or shapes) is deprecated. If you meant to do this, you must specify 'dtype=object' when creating the ndarray\n",
            "  return array(a, dtype, copy=False, order=order)\n",
            "<string>:6: VisibleDeprecationWarning: Creating an ndarray from ragged nested sequences (which is a list-or-tuple of lists-or-tuples-or ndarrays with different lengths or shapes) is deprecated. If you meant to do this, you must specify 'dtype=object' when creating the ndarray\n"
          ],
          "name": "stderr"
        }
      ]
    },
    {
      "cell_type": "code",
      "metadata": {
        "id": "2EtfF2hrfFQw",
        "colab": {
          "base_uri": "https://localhost:8080/",
          "height": 368
        },
        "outputId": "292295ee-f991-437f-ca15-c6b2d6b4ac1f"
      },
      "source": [
        "databunch.show_batch()"
      ],
      "execution_count": 184,
      "outputs": [
        {
          "output_type": "stream",
          "text": [
            "/usr/local/lib/python3.7/dist-packages/numpy/core/_asarray.py:83: VisibleDeprecationWarning: Creating an ndarray from ragged nested sequences (which is a list-or-tuple of lists-or-tuples-or ndarrays with different lengths or shapes) is deprecated. If you meant to do this, you must specify 'dtype=object' when creating the ndarray\n",
            "  return array(a, dtype, copy=False, order=order)\n",
            "<string>:6: VisibleDeprecationWarning: Creating an ndarray from ragged nested sequences (which is a list-or-tuple of lists-or-tuples-or ndarrays with different lengths or shapes) is deprecated. If you meant to do this, you must specify 'dtype=object' when creating the ndarray\n"
          ],
          "name": "stderr"
        },
        {
          "output_type": "display_data",
          "data": {
            "text/html": [
              "<table border=\"1\" class=\"dataframe\">\n",
              "  <thead>\n",
              "    <tr style=\"text-align: right;\">\n",
              "      <th>text</th>\n",
              "      <th>target</th>\n",
              "    </tr>\n",
              "  </thead>\n",
              "  <tbody>\n",
              "    <tr>\n",
              "      <td>[CLS] 环 境 不 错 有 家 的 感 觉 , 交 通 便 利 , 房 间 很 大 , 一 家 三 口 入 住 , 觉 得 有 点 浪 费 , 奥 运 期 间 住 5 个 人 也 可 以 ( 客 厅 沙 发 也 可 以 睡 觉 , 还 可 以 看 电 视 ) . 不 足 之 处 :</td>\n",
              "      <td>1</td>\n",
              "    </tr>\n",
              "    <tr>\n",
              "      <td>[CLS] 订 的 是 行 政 套 房 , 比 较 干 净 . 性 价 比 尚 可 . 不 足 的 是 冰 箱 居 然 打 不 开 , 服 务 员 打 扫 卫 生 时 丢 三 拉 四 , 垃 圾 桶 套 桶 打 开 后 没 放 好 , 也 没 放 垃 圾 袋 . 大 堂 的 迎 宾 台</td>\n",
              "      <td>1</td>\n",
              "    </tr>\n",
              "    <tr>\n",
              "      <td>[CLS] 由 于 在 南 京 住 的 银 河 索 菲 特 感 觉 不 错 ， 所 以 这 次 来 成 都 退 了 喜 来 登 到 万 达 索 菲 特 ， 接 机 的 师 傅 和 行 李 员 都 非 常 的 不 错 ， 但 接 下 来 发 生 的 事 情 让 我 觉 得 非 常 气 愤</td>\n",
              "      <td>0</td>\n",
              "    </tr>\n",
              "    <tr>\n",
              "      <td>[CLS] 这 个 酒 店 和 曲 阜 都 给 人 留 下 了 永 远 难 忘 的 印 象 － － 垃 圾 ！ ！ 奉 劝 各 位 千 万 不 要 再 去 那 里 了 ， 保 你 后 悔 没 及 ！ 总 体 印 象 是 ： 无 论 酒 店 ， 商 店 ， 交 通 还 是 旅 游 景 点</td>\n",
              "      <td>0</td>\n",
              "    </tr>\n",
              "    <tr>\n",
              "      <td>[CLS] 上 网 免 费 ， 速 度 也 没 想 像 中 的 慢 ； 当 天 送 新 鲜 水 果 ， 那 个 桃 真 甜 ； 会 提 前 联 系 客 户 ， 确 认 接 站 信 息 ； 单 人 房 ， 床 大 小 还 算 中 等 ； 房 间 紧 凑 ， 没 有 书 桌 ， 但 在 浴</td>\n",
              "      <td>1</td>\n",
              "    </tr>\n",
              "  </tbody>\n",
              "</table>"
            ],
            "text/plain": [
              "<IPython.core.display.HTML object>"
            ]
          },
          "metadata": {
            "tags": []
          }
        }
      ]
    },
    {
      "cell_type": "code",
      "metadata": {
        "id": "EWFDIeoJbgfb"
      },
      "source": [
        ""
      ],
      "execution_count": null,
      "outputs": []
    },
    {
      "cell_type": "markdown",
      "metadata": {
        "id": "CZ4lw8TadPMS"
      },
      "source": [
        "##Model and Loss Function"
      ]
    },
    {
      "cell_type": "code",
      "metadata": {
        "id": "6CLYlVWYdQlH",
        "colab": {
          "base_uri": "https://localhost:8080/"
        },
        "outputId": "83666d0b-65ee-4cec-a96c-d12a465d4e12"
      },
      "source": [
        "from pytorch_pretrained_bert.modeling import BertConfig, BertForSequenceClassification\n",
        "bert_model = BertForSequenceClassification.from_pretrained(config.bert_model_name, num_labels=2)"
      ],
      "execution_count": 185,
      "outputs": [
        {
          "output_type": "stream",
          "text": [
            "100%|██████████| 382072689/382072689 [00:09<00:00, 41889146.93B/s]\n"
          ],
          "name": "stderr"
        }
      ]
    },
    {
      "cell_type": "code",
      "metadata": {
        "id": "xyaJ7ooIdhvq"
      },
      "source": [
        "#二分类问题选用CrossEntrypyLoss作为损失函数\n",
        "loss_func = nn.CrossEntropyLoss()"
      ],
      "execution_count": 186,
      "outputs": []
    },
    {
      "cell_type": "code",
      "metadata": {
        "id": "oN47kdZ-d69i"
      },
      "source": [
        "#建立Learner(数据,预训练模型,损失函数)\n",
        "learner = Learner(databunch, bert_model,loss_func=loss_func,metrics=accuracy)"
      ],
      "execution_count": 187,
      "outputs": []
    },
    {
      "cell_type": "code",
      "metadata": {
        "id": "VhCBr5YyeYQz",
        "colab": {
          "base_uri": "https://localhost:8080/",
          "height": 190
        },
        "outputId": "a3544c10-e856-421c-daf5-bdc84bd1730f"
      },
      "source": [
        "#尝试寻找合适的最大学习率，这里使用了BERT原论文推荐的学习率3e-5作为默认值\n",
        "learner.lr_find()"
      ],
      "execution_count": 188,
      "outputs": [
        {
          "output_type": "display_data",
          "data": {
            "text/html": [
              "\n",
              "    <div>\n",
              "        <style>\n",
              "            /* Turns off some styling */\n",
              "            progress {\n",
              "                /* gets rid of default border in Firefox and Opera. */\n",
              "                border: none;\n",
              "                /* Needs to be in here for Safari polyfill so background images work as expected. */\n",
              "                background-size: auto;\n",
              "            }\n",
              "            .progress-bar-interrupted, .progress-bar-interrupted::-webkit-progress-bar {\n",
              "                background: #F44336;\n",
              "            }\n",
              "        </style>\n",
              "      <progress value='0' class='' max='1' style='width:300px; height:20px; vertical-align: middle;'></progress>\n",
              "      0.00% [0/1 00:00<00:00]\n",
              "    </div>\n",
              "    \n",
              "<table border=\"1\" class=\"dataframe\">\n",
              "  <thead>\n",
              "    <tr style=\"text-align: left;\">\n",
              "      <th>epoch</th>\n",
              "      <th>train_loss</th>\n",
              "      <th>valid_loss</th>\n",
              "      <th>accuracy</th>\n",
              "      <th>time</th>\n",
              "    </tr>\n",
              "  </thead>\n",
              "  <tbody>\n",
              "  </tbody>\n",
              "</table><p>\n",
              "\n",
              "    <div>\n",
              "        <style>\n",
              "            /* Turns off some styling */\n",
              "            progress {\n",
              "                /* gets rid of default border in Firefox and Opera. */\n",
              "                border: none;\n",
              "                /* Needs to be in here for Safari polyfill so background images work as expected. */\n",
              "                background-size: auto;\n",
              "            }\n",
              "            .progress-bar-interrupted, .progress-bar-interrupted::-webkit-progress-bar {\n",
              "                background: #F44336;\n",
              "            }\n",
              "        </style>\n",
              "      <progress value='88' class='' max='562' style='width:300px; height:20px; vertical-align: middle;'></progress>\n",
              "      15.66% [88/562 00:16<01:29 2.3584]\n",
              "    </div>\n",
              "    "
            ],
            "text/plain": [
              "<IPython.core.display.HTML object>"
            ]
          },
          "metadata": {
            "tags": []
          }
        },
        {
          "output_type": "stream",
          "text": [
            "/usr/local/lib/python3.7/dist-packages/numpy/core/_asarray.py:83: VisibleDeprecationWarning: Creating an ndarray from ragged nested sequences (which is a list-or-tuple of lists-or-tuples-or ndarrays with different lengths or shapes) is deprecated. If you meant to do this, you must specify 'dtype=object' when creating the ndarray\n",
            "  return array(a, dtype, copy=False, order=order)\n",
            "<string>:6: VisibleDeprecationWarning: Creating an ndarray from ragged nested sequences (which is a list-or-tuple of lists-or-tuples-or ndarrays with different lengths or shapes) is deprecated. If you meant to do this, you must specify 'dtype=object' when creating the ndarray\n"
          ],
          "name": "stderr"
        },
        {
          "output_type": "stream",
          "text": [
            "LR Finder is complete, type {learner_name}.recorder.plot() to see the graph.\n"
          ],
          "name": "stdout"
        }
      ]
    },
    {
      "cell_type": "code",
      "metadata": {
        "id": "qj9hzFd0efEx",
        "colab": {
          "base_uri": "https://localhost:8080/",
          "height": 280
        },
        "outputId": "55269731-0d5a-4539-dc06-73bf83e1ed4d"
      },
      "source": [
        "learner.recorder.plot(skip_end=20)"
      ],
      "execution_count": 189,
      "outputs": [
        {
          "output_type": "display_data",
          "data": {
            "image/png": "[encoded data removed]",
            "text/plain": [
              "<Figure size 432x288 with 1 Axes>"
            ]
          },
          "metadata": {
            "tags": [],
            "needs_background": "light"
          }
        }
      ]
    },
    {
      "cell_type": "code",
      "metadata": {
        "id": "2C9Jwn7KemDB",
        "colab": {
          "base_uri": "https://localhost:8080/",
          "height": 156
        },
        "outputId": "af859bd6-9899-42be-93a4-897407803486"
      },
      "source": [
        "#开始训练\n",
        "learner.fit_one_cycle(config.epochs, max_lr=config.max_lr)"
      ],
      "execution_count": 190,
      "outputs": [
        {
          "output_type": "display_data",
          "data": {
            "text/html": [
              "<table border=\"1\" class=\"dataframe\">\n",
              "  <thead>\n",
              "    <tr style=\"text-align: left;\">\n",
              "      <th>epoch</th>\n",
              "      <th>train_loss</th>\n",
              "      <th>valid_loss</th>\n",
              "      <th>accuracy</th>\n",
              "      <th>time</th>\n",
              "    </tr>\n",
              "  </thead>\n",
              "  <tbody>\n",
              "    <tr>\n",
              "      <td>0</td>\n",
              "      <td>0.176117</td>\n",
              "      <td>0.170724</td>\n",
              "      <td>0.928667</td>\n",
              "      <td>01:57</td>\n",
              "    </tr>\n",
              "  </tbody>\n",
              "</table>"
            ],
            "text/plain": [
              "<IPython.core.display.HTML object>"
            ]
          },
          "metadata": {
            "tags": []
          }
        },
        {
          "output_type": "stream",
          "text": [
            "/usr/local/lib/python3.7/dist-packages/numpy/core/_asarray.py:83: VisibleDeprecationWarning: Creating an ndarray from ragged nested sequences (which is a list-or-tuple of lists-or-tuples-or ndarrays with different lengths or shapes) is deprecated. If you meant to do this, you must specify 'dtype=object' when creating the ndarray\n",
            "  return array(a, dtype, copy=False, order=order)\n",
            "<string>:6: VisibleDeprecationWarning: Creating an ndarray from ragged nested sequences (which is a list-or-tuple of lists-or-tuples-or ndarrays with different lengths or shapes) is deprecated. If you meant to do this, you must specify 'dtype=object' when creating the ndarray\n"
          ],
          "name": "stderr"
        }
      ]
    },
    {
      "cell_type": "code",
      "metadata": {
        "id": "HUwZtDWCfZVz"
      },
      "source": [
        "learner.save(path/'htl_stage1')"
      ],
      "execution_count": 191,
      "outputs": []
    },
    {
      "cell_type": "code",
      "metadata": {
        "id": "VpOPW9I2g6EE",
        "colab": {
          "base_uri": "https://localhost:8080/"
        },
        "outputId": "6149f03f-4880-4604-c555-63b14b9ba5c5"
      },
      "source": [
        "#用样例测试下\n",
        "learner.predict(\"设施老化，紧靠马路噪音太大，晚上楼上卫生间的水流声和空调噪音非常大，无法入眠\")"
      ],
      "execution_count": 194,
      "outputs": [
        {
          "output_type": "execute_result",
          "data": {
            "text/plain": [
              "(Category tensor(0), tensor(0), tensor([0.6205, 0.3795]))"
            ]
          },
          "metadata": {
            "tags": []
          },
          "execution_count": 194
        }
      ]
    },
    {
      "cell_type": "code",
      "metadata": {
        "id": "Ic6zhTEPlxP6",
        "outputId": "a501beca-7051-40e7-efb5-65d49ce986df",
        "colab": {
          "base_uri": "https://localhost:8080/"
        }
      },
      "source": [
        "learner.predict(\"差体验\")"
      ],
      "execution_count": 206,
      "outputs": [
        {
          "output_type": "execute_result",
          "data": {
            "text/plain": [
              "(Category tensor(0), tensor(0), tensor([0.7111, 0.2889]))"
            ]
          },
          "metadata": {
            "tags": []
          },
          "execution_count": 206
        }
      ]
    },
    {
      "cell_type": "markdown",
      "metadata": {
        "id": "ODpG2dLcg5BG"
      },
      "source": [
        "##What's Next?"
      ]
    },
    {
      "cell_type": "markdown",
      "metadata": {
        "id": "WgP6BrY3hGZH"
      },
      "source": [
        "本次task属于二元文本分类，数据集并不大，同时有相当一部分数据属于正负向情感混合的文本，容易拉低准确度，因此结果表现没那么抢眼，只能略窥BERT的强大。下一步计划使用更大的数据集做中文文本多标签分类，输出模型制作成一个能自动给文本打上情感标签的应用。"
      ]
    }
  ]
}